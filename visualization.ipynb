{
 "cells": [
  {
   "cell_type": "markdown",
   "id": "8452f055",
   "metadata": {},
   "source": []
  },
  {
   "cell_type": "markdown",
   "id": "e4176093",
   "metadata": {},
   "source": [
    "# Project 1"
   ]
  },
  {
   "cell_type": "markdown",
   "id": "121cf8ea",
   "metadata": {},
   "source": [
    "Loading the data:"
   ]
  },
  {
   "cell_type": "code",
   "execution_count": null,
   "id": "54df4eb0",
   "metadata": {},
   "outputs": [
    {
     "ename": "",
     "evalue": "",
     "output_type": "error",
     "traceback": [
      "\u001b[1;31mRunning cells with 'Python 3.12.3' requires the ipykernel package.\n",
      "\u001b[1;31m<a href='command:jupyter.createPythonEnvAndSelectController'>Create a Python Environment</a> with the required packages.\n",
      "\u001b[1;31mOr install 'ipykernel' using the command: '/bin/python3 -m pip install ipykernel -U --user --force-reinstall'"
     ]
    }
   ],
   "source": [
    "from ucimlrepo import fetch_ucirepo \n",
    "  \n",
    "# fetch dataset \n",
    "energy_efficiency = fetch_ucirepo(id=242) \n",
    "  \n",
    "# data (as pandas dataframes) \n",
    "X = energy_efficiency.data.features \n",
    "y = energy_efficiency.data.targets \n",
    "  \n",
    "# metadata \n",
    "print(energy_efficiency.metadata) \n",
    "  \n",
    "# variable information \n",
    "print(energy_efficiency.variables) \n"
   ]
  }
 ],
 "metadata": {
  "kernelspec": {
   "display_name": "Python 3",
   "language": "python",
   "name": "python3"
  },
  "language_info": {
   "name": "python",
   "version": "3.12.3"
  }
 },
 "nbformat": 4,
 "nbformat_minor": 5
}
